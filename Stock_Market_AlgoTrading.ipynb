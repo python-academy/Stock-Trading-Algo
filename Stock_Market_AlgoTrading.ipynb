{
  "nbformat": 4,
  "nbformat_minor": 0,
  "metadata": {
    "colab": {
      "provenance": []
    },
    "kernelspec": {
      "name": "python3",
      "display_name": "Python 3"
    },
    "language_info": {
      "name": "python"
    }
  },
  "cells": [
    {
      "cell_type": "code",
      "source": [
        "import numpy as np\n",
        "import matplotlib.pyplot as plt"
      ],
      "metadata": {
        "id": "rolIWpR4Oe9F"
      },
      "execution_count": null,
      "outputs": []
    },
    {
      "cell_type": "code",
      "execution_count": null,
      "metadata": {
        "colab": {
          "base_uri": "https://localhost:8080/"
        },
        "id": "BcAp2ehHJrw0",
        "outputId": "30e22d27-ee26-407a-815d-f0000a890e22"
      },
      "outputs": [
        {
          "output_type": "stream",
          "name": "stderr",
          "text": [
            "/usr/local/lib/python3.10/dist-packages/yfinance/base.py:48: FutureWarning: The default dtype for empty Series will be 'object' instead of 'float64' in a future version. Specify a dtype explicitly to silence this warning.\n",
            "  _empty_series = pd.Series()\n"
          ]
        }
      ],
      "source": [
        "import yfinance as yf"
      ]
    },
    {
      "cell_type": "code",
      "source": [
        "year = 2015\n",
        "tgt_stock = \"SPY\"\n",
        "trade_freq = 3 # months\n",
        "obs_period = 18 # trading days\n",
        "initial_wealth = 1000"
      ],
      "metadata": {
        "id": "dFRrmoK3MSlo"
      },
      "execution_count": null,
      "outputs": []
    },
    {
      "cell_type": "code",
      "source": [
        "startdate = str(year) + \"-01-01\"\n",
        "enddate   = str(year) + \"-12-31\"\n",
        "data = yf.download(tgt_stock, start=startdate, end=enddate)"
      ],
      "metadata": {
        "colab": {
          "base_uri": "https://localhost:8080/"
        },
        "id": "g1ynQO_WMXEn",
        "outputId": "b763f29d-5713-4135-bc61-1ef09f458574"
      },
      "execution_count": null,
      "outputs": [
        {
          "output_type": "stream",
          "name": "stderr",
          "text": [
            "\r[*********************100%%**********************]  1 of 1 completed\n"
          ]
        }
      ]
    },
    {
      "cell_type": "code",
      "source": [
        "data"
      ],
      "metadata": {
        "colab": {
          "base_uri": "https://localhost:8080/",
          "height": 455
        },
        "id": "-bkTg-yUMhMw",
        "outputId": "fa37bb3f-1c0d-40e4-f4ed-917f76a8dbc8"
      },
      "execution_count": null,
      "outputs": [
        {
          "output_type": "execute_result",
          "data": {
            "text/plain": [
              "                  Open        High         Low       Close   Adj Close  \\\n",
              "Date                                                                     \n",
              "2015-01-02  206.380005  206.880005  204.179993  205.429993  174.806793   \n",
              "2015-01-05  204.169998  204.369995  201.350006  201.720001  171.649811   \n",
              "2015-01-06  202.089996  202.720001  198.860001  199.820007  170.033081   \n",
              "2015-01-07  201.419998  202.720001  200.880005  202.309998  172.151840   \n",
              "2015-01-08  204.009995  206.160004  203.990005  205.899994  175.206665   \n",
              "...                ...         ...         ...         ...         ...   \n",
              "2015-12-23  204.690002  206.070007  204.580002  206.020004  178.926407   \n",
              "2015-12-24  205.720001  206.330002  205.419998  205.679993  178.631134   \n",
              "2015-12-28  204.860001  205.259995  203.940002  205.210007  178.222900   \n",
              "2015-12-29  206.509995  207.789993  206.470001  207.399994  180.124939   \n",
              "2015-12-30  207.110001  207.210007  205.759995  205.929993  178.848221   \n",
              "\n",
              "               Volume  \n",
              "Date                   \n",
              "2015-01-02  121465900  \n",
              "2015-01-05  169632600  \n",
              "2015-01-06  209151400  \n",
              "2015-01-07  125346700  \n",
              "2015-01-08  147217800  \n",
              "...               ...  \n",
              "2015-12-23  110987200  \n",
              "2015-12-24   48539600  \n",
              "2015-12-28   65899900  \n",
              "2015-12-29   92640700  \n",
              "2015-12-30   63317700  \n",
              "\n",
              "[251 rows x 6 columns]"
            ],
            "text/html": [
              "\n",
              "  <div id=\"df-35733a3d-4a95-477c-8894-361864922973\" class=\"colab-df-container\">\n",
              "    <div>\n",
              "<style scoped>\n",
              "    .dataframe tbody tr th:only-of-type {\n",
              "        vertical-align: middle;\n",
              "    }\n",
              "\n",
              "    .dataframe tbody tr th {\n",
              "        vertical-align: top;\n",
              "    }\n",
              "\n",
              "    .dataframe thead th {\n",
              "        text-align: right;\n",
              "    }\n",
              "</style>\n",
              "<table border=\"1\" class=\"dataframe\">\n",
              "  <thead>\n",
              "    <tr style=\"text-align: right;\">\n",
              "      <th></th>\n",
              "      <th>Open</th>\n",
              "      <th>High</th>\n",
              "      <th>Low</th>\n",
              "      <th>Close</th>\n",
              "      <th>Adj Close</th>\n",
              "      <th>Volume</th>\n",
              "    </tr>\n",
              "    <tr>\n",
              "      <th>Date</th>\n",
              "      <th></th>\n",
              "      <th></th>\n",
              "      <th></th>\n",
              "      <th></th>\n",
              "      <th></th>\n",
              "      <th></th>\n",
              "    </tr>\n",
              "  </thead>\n",
              "  <tbody>\n",
              "    <tr>\n",
              "      <th>2015-01-02</th>\n",
              "      <td>206.380005</td>\n",
              "      <td>206.880005</td>\n",
              "      <td>204.179993</td>\n",
              "      <td>205.429993</td>\n",
              "      <td>174.806793</td>\n",
              "      <td>121465900</td>\n",
              "    </tr>\n",
              "    <tr>\n",
              "      <th>2015-01-05</th>\n",
              "      <td>204.169998</td>\n",
              "      <td>204.369995</td>\n",
              "      <td>201.350006</td>\n",
              "      <td>201.720001</td>\n",
              "      <td>171.649811</td>\n",
              "      <td>169632600</td>\n",
              "    </tr>\n",
              "    <tr>\n",
              "      <th>2015-01-06</th>\n",
              "      <td>202.089996</td>\n",
              "      <td>202.720001</td>\n",
              "      <td>198.860001</td>\n",
              "      <td>199.820007</td>\n",
              "      <td>170.033081</td>\n",
              "      <td>209151400</td>\n",
              "    </tr>\n",
              "    <tr>\n",
              "      <th>2015-01-07</th>\n",
              "      <td>201.419998</td>\n",
              "      <td>202.720001</td>\n",
              "      <td>200.880005</td>\n",
              "      <td>202.309998</td>\n",
              "      <td>172.151840</td>\n",
              "      <td>125346700</td>\n",
              "    </tr>\n",
              "    <tr>\n",
              "      <th>2015-01-08</th>\n",
              "      <td>204.009995</td>\n",
              "      <td>206.160004</td>\n",
              "      <td>203.990005</td>\n",
              "      <td>205.899994</td>\n",
              "      <td>175.206665</td>\n",
              "      <td>147217800</td>\n",
              "    </tr>\n",
              "    <tr>\n",
              "      <th>...</th>\n",
              "      <td>...</td>\n",
              "      <td>...</td>\n",
              "      <td>...</td>\n",
              "      <td>...</td>\n",
              "      <td>...</td>\n",
              "      <td>...</td>\n",
              "    </tr>\n",
              "    <tr>\n",
              "      <th>2015-12-23</th>\n",
              "      <td>204.690002</td>\n",
              "      <td>206.070007</td>\n",
              "      <td>204.580002</td>\n",
              "      <td>206.020004</td>\n",
              "      <td>178.926407</td>\n",
              "      <td>110987200</td>\n",
              "    </tr>\n",
              "    <tr>\n",
              "      <th>2015-12-24</th>\n",
              "      <td>205.720001</td>\n",
              "      <td>206.330002</td>\n",
              "      <td>205.419998</td>\n",
              "      <td>205.679993</td>\n",
              "      <td>178.631134</td>\n",
              "      <td>48539600</td>\n",
              "    </tr>\n",
              "    <tr>\n",
              "      <th>2015-12-28</th>\n",
              "      <td>204.860001</td>\n",
              "      <td>205.259995</td>\n",
              "      <td>203.940002</td>\n",
              "      <td>205.210007</td>\n",
              "      <td>178.222900</td>\n",
              "      <td>65899900</td>\n",
              "    </tr>\n",
              "    <tr>\n",
              "      <th>2015-12-29</th>\n",
              "      <td>206.509995</td>\n",
              "      <td>207.789993</td>\n",
              "      <td>206.470001</td>\n",
              "      <td>207.399994</td>\n",
              "      <td>180.124939</td>\n",
              "      <td>92640700</td>\n",
              "    </tr>\n",
              "    <tr>\n",
              "      <th>2015-12-30</th>\n",
              "      <td>207.110001</td>\n",
              "      <td>207.210007</td>\n",
              "      <td>205.759995</td>\n",
              "      <td>205.929993</td>\n",
              "      <td>178.848221</td>\n",
              "      <td>63317700</td>\n",
              "    </tr>\n",
              "  </tbody>\n",
              "</table>\n",
              "<p>251 rows × 6 columns</p>\n",
              "</div>\n",
              "    <div class=\"colab-df-buttons\">\n",
              "\n",
              "  <div class=\"colab-df-container\">\n",
              "    <button class=\"colab-df-convert\" onclick=\"convertToInteractive('df-35733a3d-4a95-477c-8894-361864922973')\"\n",
              "            title=\"Convert this dataframe to an interactive table.\"\n",
              "            style=\"display:none;\">\n",
              "\n",
              "  <svg xmlns=\"http://www.w3.org/2000/svg\" height=\"24px\" viewBox=\"0 -960 960 960\">\n",
              "    <path d=\"M120-120v-720h720v720H120Zm60-500h600v-160H180v160Zm220 220h160v-160H400v160Zm0 220h160v-160H400v160ZM180-400h160v-160H180v160Zm440 0h160v-160H620v160ZM180-180h160v-160H180v160Zm440 0h160v-160H620v160Z\"/>\n",
              "  </svg>\n",
              "    </button>\n",
              "\n",
              "  <style>\n",
              "    .colab-df-container {\n",
              "      display:flex;\n",
              "      gap: 12px;\n",
              "    }\n",
              "\n",
              "    .colab-df-convert {\n",
              "      background-color: #E8F0FE;\n",
              "      border: none;\n",
              "      border-radius: 50%;\n",
              "      cursor: pointer;\n",
              "      display: none;\n",
              "      fill: #1967D2;\n",
              "      height: 32px;\n",
              "      padding: 0 0 0 0;\n",
              "      width: 32px;\n",
              "    }\n",
              "\n",
              "    .colab-df-convert:hover {\n",
              "      background-color: #E2EBFA;\n",
              "      box-shadow: 0px 1px 2px rgba(60, 64, 67, 0.3), 0px 1px 3px 1px rgba(60, 64, 67, 0.15);\n",
              "      fill: #174EA6;\n",
              "    }\n",
              "\n",
              "    .colab-df-buttons div {\n",
              "      margin-bottom: 4px;\n",
              "    }\n",
              "\n",
              "    [theme=dark] .colab-df-convert {\n",
              "      background-color: #3B4455;\n",
              "      fill: #D2E3FC;\n",
              "    }\n",
              "\n",
              "    [theme=dark] .colab-df-convert:hover {\n",
              "      background-color: #434B5C;\n",
              "      box-shadow: 0px 1px 3px 1px rgba(0, 0, 0, 0.15);\n",
              "      filter: drop-shadow(0px 1px 2px rgba(0, 0, 0, 0.3));\n",
              "      fill: #FFFFFF;\n",
              "    }\n",
              "  </style>\n",
              "\n",
              "    <script>\n",
              "      const buttonEl =\n",
              "        document.querySelector('#df-35733a3d-4a95-477c-8894-361864922973 button.colab-df-convert');\n",
              "      buttonEl.style.display =\n",
              "        google.colab.kernel.accessAllowed ? 'block' : 'none';\n",
              "\n",
              "      async function convertToInteractive(key) {\n",
              "        const element = document.querySelector('#df-35733a3d-4a95-477c-8894-361864922973');\n",
              "        const dataTable =\n",
              "          await google.colab.kernel.invokeFunction('convertToInteractive',\n",
              "                                                    [key], {});\n",
              "        if (!dataTable) return;\n",
              "\n",
              "        const docLinkHtml = 'Like what you see? Visit the ' +\n",
              "          '<a target=\"_blank\" href=https://colab.research.google.com/notebooks/data_table.ipynb>data table notebook</a>'\n",
              "          + ' to learn more about interactive tables.';\n",
              "        element.innerHTML = '';\n",
              "        dataTable['output_type'] = 'display_data';\n",
              "        await google.colab.output.renderOutput(dataTable, element);\n",
              "        const docLink = document.createElement('div');\n",
              "        docLink.innerHTML = docLinkHtml;\n",
              "        element.appendChild(docLink);\n",
              "      }\n",
              "    </script>\n",
              "  </div>\n",
              "\n",
              "\n",
              "<div id=\"df-e14bc46e-f545-49ba-be9c-2b239e5187f2\">\n",
              "  <button class=\"colab-df-quickchart\" onclick=\"quickchart('df-e14bc46e-f545-49ba-be9c-2b239e5187f2')\"\n",
              "            title=\"Suggest charts\"\n",
              "            style=\"display:none;\">\n",
              "\n",
              "<svg xmlns=\"http://www.w3.org/2000/svg\" height=\"24px\"viewBox=\"0 0 24 24\"\n",
              "     width=\"24px\">\n",
              "    <g>\n",
              "        <path d=\"M19 3H5c-1.1 0-2 .9-2 2v14c0 1.1.9 2 2 2h14c1.1 0 2-.9 2-2V5c0-1.1-.9-2-2-2zM9 17H7v-7h2v7zm4 0h-2V7h2v10zm4 0h-2v-4h2v4z\"/>\n",
              "    </g>\n",
              "</svg>\n",
              "  </button>\n",
              "\n",
              "<style>\n",
              "  .colab-df-quickchart {\n",
              "      --bg-color: #E8F0FE;\n",
              "      --fill-color: #1967D2;\n",
              "      --hover-bg-color: #E2EBFA;\n",
              "      --hover-fill-color: #174EA6;\n",
              "      --disabled-fill-color: #AAA;\n",
              "      --disabled-bg-color: #DDD;\n",
              "  }\n",
              "\n",
              "  [theme=dark] .colab-df-quickchart {\n",
              "      --bg-color: #3B4455;\n",
              "      --fill-color: #D2E3FC;\n",
              "      --hover-bg-color: #434B5C;\n",
              "      --hover-fill-color: #FFFFFF;\n",
              "      --disabled-bg-color: #3B4455;\n",
              "      --disabled-fill-color: #666;\n",
              "  }\n",
              "\n",
              "  .colab-df-quickchart {\n",
              "    background-color: var(--bg-color);\n",
              "    border: none;\n",
              "    border-radius: 50%;\n",
              "    cursor: pointer;\n",
              "    display: none;\n",
              "    fill: var(--fill-color);\n",
              "    height: 32px;\n",
              "    padding: 0;\n",
              "    width: 32px;\n",
              "  }\n",
              "\n",
              "  .colab-df-quickchart:hover {\n",
              "    background-color: var(--hover-bg-color);\n",
              "    box-shadow: 0 1px 2px rgba(60, 64, 67, 0.3), 0 1px 3px 1px rgba(60, 64, 67, 0.15);\n",
              "    fill: var(--button-hover-fill-color);\n",
              "  }\n",
              "\n",
              "  .colab-df-quickchart-complete:disabled,\n",
              "  .colab-df-quickchart-complete:disabled:hover {\n",
              "    background-color: var(--disabled-bg-color);\n",
              "    fill: var(--disabled-fill-color);\n",
              "    box-shadow: none;\n",
              "  }\n",
              "\n",
              "  .colab-df-spinner {\n",
              "    border: 2px solid var(--fill-color);\n",
              "    border-color: transparent;\n",
              "    border-bottom-color: var(--fill-color);\n",
              "    animation:\n",
              "      spin 1s steps(1) infinite;\n",
              "  }\n",
              "\n",
              "  @keyframes spin {\n",
              "    0% {\n",
              "      border-color: transparent;\n",
              "      border-bottom-color: var(--fill-color);\n",
              "      border-left-color: var(--fill-color);\n",
              "    }\n",
              "    20% {\n",
              "      border-color: transparent;\n",
              "      border-left-color: var(--fill-color);\n",
              "      border-top-color: var(--fill-color);\n",
              "    }\n",
              "    30% {\n",
              "      border-color: transparent;\n",
              "      border-left-color: var(--fill-color);\n",
              "      border-top-color: var(--fill-color);\n",
              "      border-right-color: var(--fill-color);\n",
              "    }\n",
              "    40% {\n",
              "      border-color: transparent;\n",
              "      border-right-color: var(--fill-color);\n",
              "      border-top-color: var(--fill-color);\n",
              "    }\n",
              "    60% {\n",
              "      border-color: transparent;\n",
              "      border-right-color: var(--fill-color);\n",
              "    }\n",
              "    80% {\n",
              "      border-color: transparent;\n",
              "      border-right-color: var(--fill-color);\n",
              "      border-bottom-color: var(--fill-color);\n",
              "    }\n",
              "    90% {\n",
              "      border-color: transparent;\n",
              "      border-bottom-color: var(--fill-color);\n",
              "    }\n",
              "  }\n",
              "</style>\n",
              "\n",
              "  <script>\n",
              "    async function quickchart(key) {\n",
              "      const quickchartButtonEl =\n",
              "        document.querySelector('#' + key + ' button');\n",
              "      quickchartButtonEl.disabled = true;  // To prevent multiple clicks.\n",
              "      quickchartButtonEl.classList.add('colab-df-spinner');\n",
              "      try {\n",
              "        const charts = await google.colab.kernel.invokeFunction(\n",
              "            'suggestCharts', [key], {});\n",
              "      } catch (error) {\n",
              "        console.error('Error during call to suggestCharts:', error);\n",
              "      }\n",
              "      quickchartButtonEl.classList.remove('colab-df-spinner');\n",
              "      quickchartButtonEl.classList.add('colab-df-quickchart-complete');\n",
              "    }\n",
              "    (() => {\n",
              "      let quickchartButtonEl =\n",
              "        document.querySelector('#df-e14bc46e-f545-49ba-be9c-2b239e5187f2 button');\n",
              "      quickchartButtonEl.style.display =\n",
              "        google.colab.kernel.accessAllowed ? 'block' : 'none';\n",
              "    })();\n",
              "  </script>\n",
              "</div>\n",
              "\n",
              "  <div id=\"id_6fbec447-4963-4e39-9a18-33f448630567\">\n",
              "    <style>\n",
              "      .colab-df-generate {\n",
              "        background-color: #E8F0FE;\n",
              "        border: none;\n",
              "        border-radius: 50%;\n",
              "        cursor: pointer;\n",
              "        display: none;\n",
              "        fill: #1967D2;\n",
              "        height: 32px;\n",
              "        padding: 0 0 0 0;\n",
              "        width: 32px;\n",
              "      }\n",
              "\n",
              "      .colab-df-generate:hover {\n",
              "        background-color: #E2EBFA;\n",
              "        box-shadow: 0px 1px 2px rgba(60, 64, 67, 0.3), 0px 1px 3px 1px rgba(60, 64, 67, 0.15);\n",
              "        fill: #174EA6;\n",
              "      }\n",
              "\n",
              "      [theme=dark] .colab-df-generate {\n",
              "        background-color: #3B4455;\n",
              "        fill: #D2E3FC;\n",
              "      }\n",
              "\n",
              "      [theme=dark] .colab-df-generate:hover {\n",
              "        background-color: #434B5C;\n",
              "        box-shadow: 0px 1px 3px 1px rgba(0, 0, 0, 0.15);\n",
              "        filter: drop-shadow(0px 1px 2px rgba(0, 0, 0, 0.3));\n",
              "        fill: #FFFFFF;\n",
              "      }\n",
              "    </style>\n",
              "    <button class=\"colab-df-generate\" onclick=\"generateWithVariable('data')\"\n",
              "            title=\"Generate code using this dataframe.\"\n",
              "            style=\"display:none;\">\n",
              "\n",
              "  <svg xmlns=\"http://www.w3.org/2000/svg\" height=\"24px\"viewBox=\"0 0 24 24\"\n",
              "       width=\"24px\">\n",
              "    <path d=\"M7,19H8.4L18.45,9,17,7.55,7,17.6ZM5,21V16.75L18.45,3.32a2,2,0,0,1,2.83,0l1.4,1.43a1.91,1.91,0,0,1,.58,1.4,1.91,1.91,0,0,1-.58,1.4L9.25,21ZM18.45,9,17,7.55Zm-12,3A5.31,5.31,0,0,0,4.9,8.1,5.31,5.31,0,0,0,1,6.5,5.31,5.31,0,0,0,4.9,4.9,5.31,5.31,0,0,0,6.5,1,5.31,5.31,0,0,0,8.1,4.9,5.31,5.31,0,0,0,12,6.5,5.46,5.46,0,0,0,6.5,12Z\"/>\n",
              "  </svg>\n",
              "    </button>\n",
              "    <script>\n",
              "      (() => {\n",
              "      const buttonEl =\n",
              "        document.querySelector('#id_6fbec447-4963-4e39-9a18-33f448630567 button.colab-df-generate');\n",
              "      buttonEl.style.display =\n",
              "        google.colab.kernel.accessAllowed ? 'block' : 'none';\n",
              "\n",
              "      buttonEl.onclick = () => {\n",
              "        google.colab.notebook.generateWithVariable('data');\n",
              "      }\n",
              "      })();\n",
              "    </script>\n",
              "  </div>\n",
              "\n",
              "    </div>\n",
              "  </div>\n"
            ]
          },
          "metadata": {},
          "execution_count": 5
        }
      ]
    },
    {
      "cell_type": "markdown",
      "source": [
        "2.Evaluate the daily moving average prices for the inputs given .\n",
        "\n",
        "Print the moving average prices (to 2 decimal points) on the last trade date of every month in year clearly in your script clearly."
      ],
      "metadata": {
        "id": "MnWV5ykMNzcL"
      }
    },
    {
      "cell_type": "code",
      "source": [
        "# Convert the index to a NumPy array for easier indexing\n",
        "dates = data.index\n",
        "closing_prices = data['Close'].values"
      ],
      "metadata": {
        "id": "iP7LqfUjRDVl"
      },
      "execution_count": null,
      "outputs": []
    },
    {
      "cell_type": "code",
      "source": [
        "dates"
      ],
      "metadata": {
        "colab": {
          "base_uri": "https://localhost:8080/"
        },
        "id": "8L77Ek2TFaG8",
        "outputId": "4479d625-131a-4cfd-aaed-9c805f919452"
      },
      "execution_count": null,
      "outputs": [
        {
          "output_type": "execute_result",
          "data": {
            "text/plain": [
              "DatetimeIndex(['2015-01-02', '2015-01-05', '2015-01-06', '2015-01-07',\n",
              "               '2015-01-08', '2015-01-09', '2015-01-12', '2015-01-13',\n",
              "               '2015-01-14', '2015-01-15',\n",
              "               ...\n",
              "               '2015-12-16', '2015-12-17', '2015-12-18', '2015-12-21',\n",
              "               '2015-12-22', '2015-12-23', '2015-12-24', '2015-12-28',\n",
              "               '2015-12-29', '2015-12-30'],\n",
              "              dtype='datetime64[ns]', name='Date', length=251, freq=None)"
            ]
          },
          "metadata": {},
          "execution_count": 7
        }
      ]
    },
    {
      "cell_type": "code",
      "source": [
        "# Calculate moving average\n",
        "moving_avg = np.convolve(closing_prices, np.ones(obs_period)/obs_period, mode='valid')\n",
        "moving_avg"
      ],
      "metadata": {
        "colab": {
          "base_uri": "https://localhost:8080/"
        },
        "id": "y3BNVhL2NJhH",
        "outputId": "180de71e-0a2f-45e0-83ff-188395543ec2"
      },
      "execution_count": null,
      "outputs": [
        {
          "output_type": "execute_result",
          "data": {
            "text/plain": [
              "array([202.78944482, 202.59833442, 202.47222307, 202.58888923,\n",
              "       202.72944472, 202.6272227 , 202.73111131, 202.89222293,\n",
              "       203.03388977, 203.36444516, 203.80388896, 204.20888858,\n",
              "       204.63777754, 205.02833303, 205.25222185, 205.53055488,\n",
              "       205.85222202, 206.32277764, 206.97111087, 207.5066664 ,\n",
              "       208.16944461, 208.65500047, 209.05222321, 209.44444529,\n",
              "       209.67277866, 209.94555664, 210.10500081, 210.19111209,\n",
              "       210.08277893, 209.83722348, 209.68833499, 209.45055728,\n",
              "       209.364446  , 209.25222439, 209.20889113, 209.11389075,\n",
              "       209.03611332, 208.94555749, 208.8033354 , 208.53111267,\n",
              "       208.15777927, 207.85889096, 207.74889119, 207.52500153,\n",
              "       207.42500136, 207.31833479, 207.47666846, 207.63111284,\n",
              "       207.68000115, 207.85055627, 207.9316669 , 207.99444411,\n",
              "       207.94055515, 207.99222141, 207.98999871, 207.87610965,\n",
              "       207.93333181, 208.14666579, 208.4444436 , 208.74555461,\n",
              "       208.93444316, 209.17555491, 209.49444411, 209.72388882,\n",
              "       209.75888909, 209.95000034, 210.13555654, 210.13555654,\n",
              "       210.02444543, 210.01222314, 210.13055589, 210.14055634,\n",
              "       210.1188897 , 210.23389011, 210.36500125, 210.52277883,\n",
              "       210.66000112, 210.76388974, 210.83222368, 210.98389011,\n",
              "       211.07000139, 211.07722304, 211.31277805, 211.40944502,\n",
              "       211.39944458, 211.54777866, 211.73222351, 211.90166812,\n",
              "       211.81889089, 211.77222443, 211.68889109, 211.60166846,\n",
              "       211.53166792, 211.48666806, 211.31500075, 211.09722307,\n",
              "       210.95111169, 210.78944482, 210.77777778, 210.78388892,\n",
              "       210.73888906, 210.71555498, 210.67999946, 210.58499908,\n",
              "       210.4994439 , 210.13833279, 209.90055508, 209.77444373,\n",
              "       209.70944383, 209.61333296, 209.45055559, 209.05611081,\n",
              "       208.77222188, 208.68166606, 208.65499963, 208.65999942,\n",
              "       208.53944397, 208.62222205, 208.65499963, 208.68555535,\n",
              "       208.7549998 , 208.83888838, 208.85888757, 209.002221  ,\n",
              "       209.05444251, 209.15610928, 209.34833188, 209.57610999,\n",
              "       209.71388753, 210.00610945, 210.25499895, 210.39888848,\n",
              "       210.31999969, 210.16833327, 210.16611142, 209.96444448,\n",
              "       209.76666684, 209.54833391, 209.41888936, 209.3755561 ,\n",
              "       209.36444516, 209.38222334, 209.22555712, 208.58666823,\n",
              "       207.40500132, 206.09666782, 205.20555708, 204.62111325,\n",
              "       204.0600018 , 203.3711124 , 202.45000119, 201.75333489,\n",
              "       200.91889021, 200.02555678, 199.38722314, 198.61666701,\n",
              "       197.86277856, 197.09333462, 196.31722344, 195.76944563,\n",
              "       195.5588896 , 195.66444482, 195.9950002 , 196.50555589,\n",
              "       196.47500017, 196.16000027, 195.80555556, 195.53777822,\n",
              "       195.32888879, 194.92388831, 194.70611064, 194.68055556,\n",
              "       194.54555596, 194.75000085, 194.85777791, 195.00611115,\n",
              "       195.29500071, 195.45444489, 195.52888997, 195.5577791 ,\n",
              "       195.77111223, 196.09833442, 196.61833445, 197.16111162,\n",
              "       197.72833421, 198.22833421, 199.18666755, 200.26388974,\n",
              "       201.11777835, 201.92166731, 202.69666714, 203.27222273,\n",
              "       203.83555603, 204.44555579, 204.98944431, 205.49111091,\n",
              "       205.97055478, 206.51444329, 207.0027771 , 207.34777662,\n",
              "       207.59611003, 207.67777676, 207.64610969, 207.85555352,\n",
              "       207.86722056, 207.93499841, 208.02110969, 208.17166477,\n",
              "       208.17833201, 208.20722114, 208.28444417, 208.23833296,\n",
              "       208.10999976, 208.1277771 , 208.03777737, 207.79166667,\n",
              "       207.87722185, 207.86555566, 207.82166629, 207.84944407,\n",
              "       208.03444417, 207.82666694, 207.68388875, 207.47833337,\n",
              "       207.44944424, 207.20222219, 206.69944424, 206.27277713,\n",
              "       205.94944339, 205.7527771 , 205.58555433, 205.28166623,\n",
              "       205.21888818, 205.23666551])"
            ]
          },
          "metadata": {},
          "execution_count": 8
        }
      ]
    },
    {
      "cell_type": "code",
      "source": [
        "plt.plot(dates[obs_period-1:], moving_avg)\n",
        "plt.xlabel('Date')\n",
        "plt.ylabel('Moving Average Price')\n",
        "plt.title('Moving Average of ' + tgt_stock + ' in ' + str(year))\n",
        "plt.show()\n"
      ],
      "metadata": {
        "colab": {
          "base_uri": "https://localhost:8080/",
          "height": 472
        },
        "id": "qBkMlMkzTAJ4",
        "outputId": "eaab1da9-9fd4-4e0e-92b5-72ae99db5d27"
      },
      "execution_count": null,
      "outputs": [
        {
          "output_type": "display_data",
          "data": {
            "text/plain": [
              "<Figure size 640x480 with 1 Axes>"
            ],
            "image/png": "[encoded data removed]"
          },
          "metadata": {}
        }
      ]
    },
    {
      "cell_type": "code",
      "source": [
        "dates[0]"
      ],
      "metadata": {
        "colab": {
          "base_uri": "https://localhost:8080/"
        },
        "id": "INadc0PnBVfu",
        "outputId": "b7530ca6-3eda-45e7-bb18-306c628dd41a"
      },
      "execution_count": null,
      "outputs": [
        {
          "output_type": "execute_result",
          "data": {
            "text/plain": [
              "Timestamp('2015-01-02 00:00:00')"
            ]
          },
          "metadata": {},
          "execution_count": 10
        }
      ]
    },
    {
      "cell_type": "code",
      "source": [
        "# Find the last trading day of each month\n",
        "last_trade_dates = []\n",
        "current_month = dates[0].month\n",
        "for i in range(len(dates)):\n",
        "  if dates[i].month != current_month:\n",
        "    last_trade_dates.append(dates[i-1])\n",
        "    current_month = dates[i].month\n",
        "last_trade_dates.append(dates[-1])\n",
        "\n",
        "# Print the last trade dates\n",
        "print(\"Last trading dates of each month:\")\n",
        "for date in last_trade_dates:\n",
        "  print(date)"
      ],
      "metadata": {
        "colab": {
          "base_uri": "https://localhost:8080/"
        },
        "id": "IBQxJ2qa-cxC",
        "outputId": "2ed1d6a1-a47e-497e-bbdc-564bc4163833"
      },
      "execution_count": null,
      "outputs": [
        {
          "output_type": "stream",
          "name": "stdout",
          "text": [
            "Last trading dates of each month:\n",
            "2015-01-30 00:00:00\n",
            "2015-02-27 00:00:00\n",
            "2015-03-31 00:00:00\n",
            "2015-04-30 00:00:00\n",
            "2015-05-29 00:00:00\n",
            "2015-06-30 00:00:00\n",
            "2015-07-31 00:00:00\n",
            "2015-08-31 00:00:00\n",
            "2015-09-30 00:00:00\n",
            "2015-10-30 00:00:00\n",
            "2015-11-30 00:00:00\n",
            "2015-12-30 00:00:00\n"
          ]
        }
      ]
    },
    {
      "cell_type": "code",
      "source": [
        "# Print the moving average prices (to 2 decimal points) on the last trade date of every month in year clearly\n",
        "mov_avg_date = []\n",
        "for date in last_trade_dates:\n",
        "  idx = dates.get_loc(date)\n",
        "  mv_avg = moving_avg[idx - obs_period + 1]\n",
        "  close_val = data.loc[date]['Close']\n",
        "  temp_list = [date,mv_avg,close_val]\n",
        "  mov_avg_date.append(temp_list)\n",
        "  print(f\"{date}: {mv_avg:.2f}\")"
      ],
      "metadata": {
        "colab": {
          "base_uri": "https://localhost:8080/"
        },
        "id": "0HXGhiWjDLqy",
        "outputId": "b8237a70-4284-4b58-ddf4-1220d86fca2f"
      },
      "execution_count": null,
      "outputs": [
        {
          "output_type": "stream",
          "name": "stdout",
          "text": [
            "2015-01-30 00:00:00: 202.47\n",
            "2015-02-27 00:00:00: 208.66\n",
            "2015-03-31 00:00:00: 207.53\n",
            "2015-04-30 00:00:00: 209.76\n",
            "2015-05-29 00:00:00: 211.40\n",
            "2015-06-30 00:00:00: 209.90\n",
            "2015-07-31 00:00:00: 209.71\n",
            "2015-08-31 00:00:00: 203.37\n",
            "2015-09-30 00:00:00: 194.71\n",
            "2015-10-30 00:00:00: 203.84\n",
            "2015-11-30 00:00:00: 208.11\n",
            "2015-12-30 00:00:00: 205.24\n"
          ]
        }
      ]
    },
    {
      "cell_type": "code",
      "source": [
        "mov_avg_date = np.array(mov_avg_date)\n",
        "print(mov_avg_date)"
      ],
      "metadata": {
        "colab": {
          "base_uri": "https://localhost:8080/"
        },
        "id": "oBG2rCdMPN0A",
        "outputId": "754304dd-5c69-4b23-8697-29b51160af31"
      },
      "execution_count": null,
      "outputs": [
        {
          "output_type": "stream",
          "name": "stdout",
          "text": [
            "[[Timestamp('2015-01-30 00:00:00') 202.4722230699327 199.4499969482422]\n",
            " [Timestamp('2015-02-27 00:00:00') 208.65500047471787 210.66000366210938]\n",
            " [Timestamp('2015-03-31 00:00:00') 207.5250015258789 206.42999267578125]\n",
            " [Timestamp('2015-04-30 00:00:00') 209.7588890923394 208.4600067138672]\n",
            " [Timestamp('2015-05-29 00:00:00') 211.39944458007812 211.13999938964844]\n",
            " [Timestamp('2015-06-30 00:00:00') 209.90055508083765 205.85000610351562]\n",
            " [Timestamp('2015-07-31 00:00:00') 209.7138875325521 210.5]\n",
            " [Timestamp('2015-08-31 00:00:00') 203.37111239963107 197.6699981689453]\n",
            " [Timestamp('2015-09-30 00:00:00') 194.70611063639322 191.6300048828125]\n",
            " [Timestamp('2015-10-30 00:00:00') 203.83555603027344 207.92999267578125]\n",
            " [Timestamp('2015-11-30 00:00:00') 208.10999976264105 208.69000244140625]\n",
            " [Timestamp('2015-12-30 00:00:00') 205.2366655137804 205.92999267578125]]\n"
          ]
        }
      ]
    },
    {
      "cell_type": "markdown",
      "source": [
        "**3.** Evaluate the dates and closing prices when buy transactions are to happen.\n",
        "\n",
        "Report clearly, the buy dates and closing prices of tgt_stock in your script."
      ],
      "metadata": {
        "id": "DBag2uuHF-8q"
      }
    },
    {
      "cell_type": "code",
      "source": [
        "# prompt: In variable mov_avg_date, the first column is the date, the second is the moving average and the third is the closing value of the stock. If the value of the close is less than the moving average, that day we should buy else it be sell. create a new column with 'Sell' & 'Buy' values and add it to mov_avg_date numpy.\n",
        "\n",
        "mov_avg_date = np.insert(mov_avg_date, 3, 'Hold', axis=1)\n",
        "for i in range(len(mov_avg_date)):\n",
        "  if mov_avg_date[i][1] > mov_avg_date[i][2]:\n",
        "    mov_avg_date[i][3] = 'Buy'\n",
        "  else:\n",
        "    mov_avg_date[i][3] = 'Sell'\n",
        "\n",
        "print(mov_avg_date)\n"
      ],
      "metadata": {
        "id": "8TZ6UE7NGVun",
        "colab": {
          "base_uri": "https://localhost:8080/"
        },
        "outputId": "4d72f4be-69b4-4f54-da2d-5e1a6d93d1db"
      },
      "execution_count": null,
      "outputs": [
        {
          "output_type": "stream",
          "name": "stdout",
          "text": [
            "[[Timestamp('2015-01-30 00:00:00') 202.4722230699327 199.4499969482422\n",
            "  'Buy']\n",
            " [Timestamp('2015-02-27 00:00:00') 208.65500047471787 210.66000366210938\n",
            "  'Sell']\n",
            " [Timestamp('2015-03-31 00:00:00') 207.5250015258789 206.42999267578125\n",
            "  'Buy']\n",
            " [Timestamp('2015-04-30 00:00:00') 209.7588890923394 208.4600067138672\n",
            "  'Buy']\n",
            " [Timestamp('2015-05-29 00:00:00') 211.39944458007812 211.13999938964844\n",
            "  'Buy']\n",
            " [Timestamp('2015-06-30 00:00:00') 209.90055508083765 205.85000610351562\n",
            "  'Buy']\n",
            " [Timestamp('2015-07-31 00:00:00') 209.7138875325521 210.5 'Sell']\n",
            " [Timestamp('2015-08-31 00:00:00') 203.37111239963107 197.6699981689453\n",
            "  'Buy']\n",
            " [Timestamp('2015-09-30 00:00:00') 194.70611063639322 191.6300048828125\n",
            "  'Buy']\n",
            " [Timestamp('2015-10-30 00:00:00') 203.83555603027344 207.92999267578125\n",
            "  'Sell']\n",
            " [Timestamp('2015-11-30 00:00:00') 208.10999976264105 208.69000244140625\n",
            "  'Sell']\n",
            " [Timestamp('2015-12-30 00:00:00') 205.2366655137804 205.92999267578125\n",
            "  'Sell']]\n"
          ]
        }
      ]
    },
    {
      "cell_type": "code",
      "source": [
        "# prompt: print only rows of mov_avg_date which has buy option, with decimal format to 2 digits\n",
        "\n",
        "buy_dates = []\n",
        "for row in mov_avg_date:\n",
        "  if row[3] == 'Buy':\n",
        "    buy_dates.append(row)\n",
        "    print(f\"{row[0]}: {row[1]:.2f} {row[2]:.2f} {row[3]}\")\n",
        "\n",
        "buy_dates = np.array(buy_dates)"
      ],
      "metadata": {
        "colab": {
          "base_uri": "https://localhost:8080/"
        },
        "id": "ABjz5jkJu5p3",
        "outputId": "aaf93740-3da1-4875-d69c-7a7aa7b1f8af"
      },
      "execution_count": null,
      "outputs": [
        {
          "output_type": "stream",
          "name": "stdout",
          "text": [
            "2015-01-30 00:00:00: 202.47 199.45 Buy\n",
            "2015-03-31 00:00:00: 207.53 206.43 Buy\n",
            "2015-04-30 00:00:00: 209.76 208.46 Buy\n",
            "2015-05-29 00:00:00: 211.40 211.14 Buy\n",
            "2015-06-30 00:00:00: 209.90 205.85 Buy\n",
            "2015-08-31 00:00:00: 203.37 197.67 Buy\n",
            "2015-09-30 00:00:00: 194.71 191.63 Buy\n"
          ]
        }
      ]
    },
    {
      "cell_type": "code",
      "source": [
        "sell_dates = []\n",
        "for row in mov_avg_date:\n",
        "  if row[3] == 'Sell':\n",
        "    sell_dates.append(row)\n",
        "    print(f\"{row[0]}: {row[1]:.2f} {row[2]:.2f} {row[3]}\")\n",
        "\n",
        "sell_dates = np.array(sell_dates)"
      ],
      "metadata": {
        "colab": {
          "base_uri": "https://localhost:8080/"
        },
        "id": "Ci_dOw7WwaMZ",
        "outputId": "05fb1975-ff9d-43b7-c7be-1e25f5e11011"
      },
      "execution_count": null,
      "outputs": [
        {
          "output_type": "stream",
          "name": "stdout",
          "text": [
            "2015-02-27 00:00:00: 208.66 210.66 Sell\n",
            "2015-07-31 00:00:00: 209.71 210.50 Sell\n",
            "2015-10-30 00:00:00: 203.84 207.93 Sell\n",
            "2015-11-30 00:00:00: 208.11 208.69 Sell\n",
            "2015-12-30 00:00:00: 205.24 205.93 Sell\n"
          ]
        }
      ]
    },
    {
      "cell_type": "code",
      "source": [
        "# prompt: on the moving average plot put a grey triangle on the buy date and a red circle on the sell date. Plot closing dates in blue line and moving average as a black dotted line. show legend also.\n",
        "\n",
        "# Create the plot\n",
        "fig, ax = plt.subplots()\n",
        "\n",
        "# Plot the closing prices in blue\n",
        "ax.plot(dates, closing_prices, color='blue', label='Closing Price')\n",
        "\n",
        "# Plot the moving average in black dotted line\n",
        "ax.plot(dates[obs_period-1:], moving_avg, color='black', linestyle='--', label='Moving Average')\n",
        "\n",
        "# Plot points with marker triangle (green)\n",
        "ax.scatter(buy_dates[:,0], buy_dates[:,2], c='yellow', marker='^', label='Buy')\n",
        "\n",
        "# Plot points with marker circle (red)\n",
        "ax.scatter(sell_dates[:,0], sell_dates[:,2], c='red', marker='o', label='Sell')\n",
        "\n",
        "# Add legend\n",
        "plt.legend()\n",
        "plt.grid(True)\n",
        "plt.show()\n"
      ],
      "metadata": {
        "colab": {
          "base_uri": "https://localhost:8080/",
          "height": 430
        },
        "id": "2XwnT3-e0EN0",
        "outputId": "23f9d516-03ec-4ec4-eed5-e7e1c6d05dc4"
      },
      "execution_count": null,
      "outputs": [
        {
          "output_type": "display_data",
          "data": {
            "text/plain": [
              "<Figure size 640x480 with 1 Axes>"
            ],
            "image/png": "[encoded data removed]"
          },
          "metadata": {}
        }
      ]
    },
    {
      "cell_type": "code",
      "source": [
        "# prompt: print only rows from mov_avg_date as per trade_freq duration\n",
        "\n",
        "trade_dates = mov_avg_date[trade_freq-1::trade_freq]\n",
        "for row in trade_dates:\n",
        "  print(f\"{row[0]}: {row[1]:.2f} {row[2]:.2f} {row[3]}\")\n"
      ],
      "metadata": {
        "colab": {
          "base_uri": "https://localhost:8080/"
        },
        "id": "7Lgk4E6W35fD",
        "outputId": "2e24c2fc-815e-4e6f-eeb0-17f94a3e9b75"
      },
      "execution_count": null,
      "outputs": [
        {
          "output_type": "stream",
          "name": "stdout",
          "text": [
            "2015-03-31 00:00:00: 207.53 206.43 Buy\n",
            "2015-06-30 00:00:00: 209.90 205.85 Buy\n",
            "2015-09-30 00:00:00: 194.71 191.63 Buy\n",
            "2015-12-30 00:00:00: 205.24 205.93 Sell\n"
          ]
        }
      ]
    },
    {
      "cell_type": "markdown",
      "source": [
        "**5**. Evaluate the financial return from the multiple pairs of transactions in Questions 4 and 5.\n",
        "\n",
        "Hence, report clearly, the final wealth of the strategy, corrected to 2 decimal points in your script."
      ],
      "metadata": {
        "id": "06h2bm3zMAcz"
      }
    },
    {
      "cell_type": "code",
      "source": [
        "# prompt: We need to start from initial_wealth and trade_dates ndarray. For each \"Sell\", profit per share will be the current row 'close' amount (column 3) minus the next row 'close' amount (column 3 ). The total shares we can buy is initial_wealth divided by the current row 'close' amount (column 3). Profit is above total shares multiplied by profit per share. Add this profit amount to initial_wealth. For\n",
        "\n",
        "initial_wealth = 1000\n",
        "\n",
        "for i in range(len(trade_dates)-1):\n",
        "  current_close = trade_dates[i][2]\n",
        "  next_close = trade_dates[i + 1][2]\n",
        "  print(current_close,next_close)\n",
        "  if trade_dates[i][3] == 'Buy':\n",
        "    profit_per_share = current_close - next_close\n",
        "  else:\n",
        "    profit_per_share = next_close - current_close\n",
        "\n",
        "  print(profit_per_share)\n",
        "\n",
        "  total_shares = initial_wealth / current_close\n",
        "  print(total_shares)\n",
        "\n",
        "  profit = total_shares * profit_per_share\n",
        "  print(profit)\n",
        "\n",
        "  initial_wealth += profit\n",
        "\n",
        "  print(f\"Final wealth: {initial_wealth:.2f}\")\n",
        "  print('++++++++++++++++++++++++')\n"
      ],
      "metadata": {
        "colab": {
          "base_uri": "https://localhost:8080/"
        },
        "id": "xHtgeIxmmtj6",
        "outputId": "1f04771e-90d9-4a01-888b-e0f5176aec80"
      },
      "execution_count": null,
      "outputs": [
        {
          "output_type": "stream",
          "name": "stdout",
          "text": [
            "206.42999267578125 205.85000610351562\n",
            "0.579986572265625\n",
            "4.844257305044811\n",
            "2.809604189525654\n",
            "Final wealth: 1002.81\n",
            "++++++++++++++++++++++++\n",
            "205.85000610351562 191.6300048828125\n",
            "14.220001220703125\n",
            "4.871554891697421\n",
            "69.27351650665962\n",
            "Final wealth: 1072.08\n",
            "++++++++++++++++++++++++\n",
            "191.6300048828125 205.92999267578125\n",
            "-14.29998779296875\n",
            "5.594547270151124\n",
            "-80.00195767034772\n",
            "Final wealth: 992.08\n",
            "++++++++++++++++++++++++\n"
          ]
        }
      ]
    },
    {
      "cell_type": "code",
      "source": [
        "# prompt: select from trade_dates only rows where column 3 is 'Buy'\n",
        "\n",
        "trade_dates[trade_dates[:, 3] == 'Buy'][:,0]\n"
      ],
      "metadata": {
        "id": "j518tGX_DRMb",
        "colab": {
          "base_uri": "https://localhost:8080/"
        },
        "outputId": "c3c3c564-3982-47e8-d879-e7f7a4b230a8"
      },
      "execution_count": null,
      "outputs": [
        {
          "output_type": "execute_result",
          "data": {
            "text/plain": [
              "array([Timestamp('2015-03-31 00:00:00'), Timestamp('2015-06-30 00:00:00'),\n",
              "       Timestamp('2015-09-30 00:00:00')], dtype=object)"
            ]
          },
          "metadata": {},
          "execution_count": 21
        }
      ]
    },
    {
      "cell_type": "markdown",
      "source": [
        "**6.** Recreate Figure 1 with the strategy inputs given in Figure 2."
      ],
      "metadata": {
        "id": "KKOtUtMXLm2Z"
      }
    },
    {
      "cell_type": "code",
      "source": [
        "# Create the plot\n",
        "fig, ax = plt.subplots()\n",
        "\n",
        "# Plot the closing prices in blue\n",
        "ax.plot(dates, closing_prices, color='blue', label='Closing Price')\n",
        "\n",
        "# Plot the moving average in black dotted line\n",
        "ax.plot(dates[obs_period-1:], moving_avg, color='black', linestyle='--', label='Moving Average')\n",
        "\n",
        "# Plot points with marker triangle (green)\n",
        "ax.scatter(trade_dates[trade_dates[:, 3] == 'Buy'][:,0], trade_dates[trade_dates[:, 3] == 'Buy'][:,2], c='yellow', marker='^', label='Buy')\n",
        "\n",
        "# Plot points with marker circle (red)\n",
        "ax.scatter(trade_dates[trade_dates[:, 3] == 'Sell'][:,0], trade_dates[trade_dates[:, 3] == 'Sell'][:,2], c='red', marker='o', label='Sell')\n",
        "\n",
        "# Add legend\n",
        "plt.legend()\n",
        "plt.grid(True)\n",
        "plt.show()"
      ],
      "metadata": {
        "colab": {
          "base_uri": "https://localhost:8080/",
          "height": 430
        },
        "id": "hz6pKNJKLPBf",
        "outputId": "92842dab-d25f-4669-e596-f22b53b243b5"
      },
      "execution_count": null,
      "outputs": [
        {
          "output_type": "display_data",
          "data": {
            "text/plain": [
              "<Figure size 640x480 with 1 Axes>"
            ],
            "image/png": "[encoded data removed]"
          },
          "metadata": {}
        }
      ]
    }
  ]
}